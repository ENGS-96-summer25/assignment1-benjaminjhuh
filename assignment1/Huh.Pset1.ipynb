{
 "cells": [
  {
   "cell_type": "markdown",
   "metadata": {},
   "source": [
    "# Benjamin Huh F004NDC\n",
    "    "
   ]
  },
  {
   "cell_type": "markdown",
   "metadata": {
    "id": "7pgbT4QA22v8"
   },
   "source": [
    "## Matrix Multiplication\n",
    "\n",
    "To multiply a matrix with another matrix, we need to dot product the rows with the columns. That being said, the number of columns in the first matrix should be equal to the number of rows in the second matrix. You get a matrix having number of rows as the first matrix and number of columns as the second matrix.\n",
    "\n",
    "Here is an example:\n",
    "\n",
    "\n",
    "\\begin{align}\n",
    "  \\begin{bmatrix}\n",
    "    1 & 2 & 3\\\\\n",
    "    4 & 5 & 6\n",
    "  \\end{bmatrix}\n",
    "  \\times\n",
    "  \\begin{bmatrix}\n",
    "    7 & 8\\\\ \n",
    "    9 & 10\\\\\n",
    "    11 & 12  \n",
    "  \\end{bmatrix}\n",
    "  =\n",
    "  \\begin{bmatrix}\n",
    "    58 & 64\\\\ \n",
    "    139 & 154   \n",
    "  \\end{bmatrix}\n",
    "\\end{align}\n",
    "\n",
    "In Python, there are several libraries to find this multiplication. Initially, you will create your own function which takes two matrices/arrays as inputs and returns the dot product of the two. "
   ]
  },
  {
   "cell_type": "code",
   "execution_count": 1,
   "metadata": {
    "id": "AeMXh6tLW5IB"
   },
   "outputs": [],
   "source": [
    "## Importing required libraries for the assignment\n",
    "## You can add any if needed\n",
    "\n",
    "import numpy as np"
   ]
  },
  {
   "cell_type": "code",
   "execution_count": 2,
   "metadata": {
    "colab": {
     "base_uri": "https://localhost:8080/"
    },
    "id": "5TTRV1NgU6Ml",
    "outputId": "71abcd61-9dca-4e8b-ccd0-a26e5ae9fbbd",
    "scrolled": true
   },
   "outputs": [],
   "source": [
    "## Write a function to return the matrix multiplication of two matrices\n",
    "## You only have to complete the function matrix_multiplication\n",
    "## The input and output are taken care of with an example\n",
    "\n",
    "def matrix_multiplication(matrix1, matrix2):\n",
    "    ## Build your function from scratch as you would do on paper\n",
    "    ## Don't forget to return the resultant matrix\n",
    "    rows_matrix1 = len(matrix1)\n",
    "    cols_matrix1 = len(matrix1[0])\n",
    "    rows_matrix2 = len(matrix2)\n",
    "    cols_matrix2 = len(matrix2[0])\n",
    "    \n",
    "    # Dimension check\n",
    "    if cols_matrix1 != rows_matrix2:\n",
    "        raise ValueError(\"Number of columns of matrix1 must equal number of rows of matrix2\")\n",
    "    \n",
    "    # Initialize\n",
    "    result = [[0 for _ in range(cols_matrix2)] for _ in range(rows_matrix1)]\n",
    "    \n",
    "    # Matrix mult\n",
    "    for i in range(rows_matrix1):\n",
    "        for j in range(cols_matrix2):\n",
    "            for k in range(cols_matrix1):  # or rows_matrix2, since they're equal\n",
    "                result[i][j] += matrix1[i][k] * matrix2[k][j]\n",
    "    \n",
    "    return result\n"
   ]
  },
  {
   "cell_type": "markdown",
   "metadata": {
    "id": "69I_p2ZXYkqN"
   },
   "source": [
    "Now, we will see some functions that are built in the libraries provided by Python.\n",
    "\n",
    "The following functions are built-in functions in libraries that may assist you with checking your code's correctness:\n",
    "\n",
    "1.   np.dot()\n",
    "2.   np.matmul()\n",
    "3.   np.multiply()\n",
    "4.   matrix1@matrix2\n",
    "\n",
    "Feel free to explore these in place of the function implementation above and more if you come across any.\n",
    "\n"
   ]
  },
  {
   "cell_type": "markdown",
   "metadata": {
    "id": "mRBrpk_zaRWa"
   },
   "source": [
    "## Matrix Inverse\n",
    "\n",
    "The inverse of A is A-1 only when:\n",
    "\n",
    "\\begin{align}\n",
    "  AA^{-1} = A^{-1}A = I\n",
    "\\end{align}\n",
    "\n",
    "Sometimes there is no inverse at all. Let us see an example for 2X2 matrix:\n",
    "\n",
    "\\begin{align}\n",
    "  \\begin{bmatrix}\n",
    "    1 & 2\\\\\n",
    "    3 & 4\n",
    "  \\end{bmatrix}^{-1}\n",
    "  =\n",
    "  \\frac{1}{1x4 - 2x3}\n",
    "  \\begin{bmatrix}\n",
    "    4 & -2\\\\\n",
    "    -3 & 1\n",
    "  \\end{bmatrix}\n",
    "\\end{align}"
   ]
  },
  {
   "cell_type": "code",
   "execution_count": 3,
   "metadata": {
    "id": "CYqZnY05dPe1"
   },
   "outputs": [],
   "source": [
    "## Write a function to return the inverse of a matrix\n",
    "## You only have to complete the function matrix_inverse\n",
    "## The input and output are taken care of with an example\n",
    "\n",
    "def matrix_inverse(matrix):\n",
    "    ## Build your function from scratch as you would do on paper\n",
    "    ## Don't forget to return the resultant matrix\n",
    "    # Check if square matrix\n",
    "    n = len(matrix)\n",
    "    if not all(len(row) == n for row in matrix):\n",
    "        raise ValueError(\"Matrix must be square\")\n",
    "\n",
    "    # Create augmented matrix [A | I]\n",
    "    identity = [[float(i == j) for j in range(n)] for i in range(n)]\n",
    "    aug = []\n",
    "    for i in range(n):\n",
    "        # Copy row i from the original matrix\n",
    "        matrix_row_copy = []\n",
    "        for val in matrix[i]:\n",
    "            matrix_row_copy.append(val)\n",
    "\n",
    "        # Copy row i from the identity matrix\n",
    "        identity_row_copy = []\n",
    "        for val in identity[i]:\n",
    "            identity_row_copy.append(val)\n",
    "\n",
    "        # Concatenate the rows\n",
    "        augmented_row = matrix_row_copy + identity_row_copy\n",
    "\n",
    "        # Add the complete row to the augmented matrix\n",
    "        aug.append(augmented_row)\n",
    "    \n",
    "\n",
    "    # Forward elimination\n",
    "    for i in range(n):\n",
    "        # Find pivot\n",
    "        pivot = aug[i][i]\n",
    "        if pivot == 0:\n",
    "            # Try to swap with a lower row\n",
    "            for j in range(i + 1, n):\n",
    "                if aug[j][i] != 0:\n",
    "                    aug[i], aug[j] = aug[j], aug[i]\n",
    "                    pivot = aug[i][i]\n",
    "                    break\n",
    "            else: # Note that if you can't swap, but the pivot is 0, the matrix is singular and can't be inverted\n",
    "                raise ValueError(\"Matrix cannot be inverted\")\n",
    "\n",
    "    # Normalize the pivot row\n",
    "        for j in range(2 * n):\n",
    "            aug[i][j] /= pivot\n",
    "\n",
    "    # Eliminate the other rows\n",
    "        for k in range(n):\n",
    "            if k != i:\n",
    "                factor = aug[k][i]\n",
    "                for j in range(2 * n):\n",
    "                    aug[k][j] -= factor * aug[i][j]\n",
    "\n",
    "    # Inverse should be the other half of our augmented matrix\n",
    "    inverse = [row[n:] for row in aug]\n",
    "    return inverse\n"
   ]
  },
  {
   "cell_type": "markdown",
   "metadata": {
    "id": "_JAtTt4meD1Z"
   },
   "source": [
    "We can use the following functions from different libraries for finding the inverse of a matrix as well (for testing purpose only)\n",
    "-   numpy.linalg.inv(a)\n",
    "-   scipy.linalg.inv(a)\n",
    "\n",
    "\n",
    "Feel free to explore these in place of the function implementation above and more if you come across any."
   ]
  },
  {
   "cell_type": "markdown",
   "metadata": {
    "id": "OlVvjPKvhsQh"
   },
   "source": [
    "## Singular Value Decomposition\n",
    "\n",
    "It is a widely used method for dimensionality reduction. It decomposes one complex transformation into 3 simpler transformations (rotation, scaling, and rotation). It is represented by the formula:\n",
    "\n",
    "\\begin{align}\n",
    "  A = UΣV^{T}\n",
    "\\end{align}\n",
    "\n",
    "where, \n",
    "- U and V* are orthogonal matrices.\n",
    "- D is a diagonal matrix of singular values.\n",
    "\n",
    "Functions that can be used to check your code's correctness:\n",
    "\n",
    "1.   np.linalg.svd(A)\n",
    "2.   scipy.linals.svd(A)\n",
    "\n",
    "You can mention if you find more information on libraries in Python that are used to calculate SVD."
   ]
  },
  {
   "cell_type": "code",
   "execution_count": null,
   "metadata": {
    "id": "1h01exezjLaV"
   },
   "outputs": [],
   "source": [
    "## Write a function to return the svd of a matrix\n",
    "## You only have to complete the function matrix_svd\n",
    "## The input and output are taken care of with an example\n",
    "\n",
    "def matrix_svd(matrix):\n",
    "    '''\n",
    "        Input: matrix\n",
    "        Output: (U, sigma, V.T)\n",
    "    '''\n",
    "    ## Write your code here\n",
    "    ## Don't forget to return the resultant matrix\n",
    "    A = np.array(matrix, dtype=float)\n",
    "    \n",
    "    # A^T A\n",
    "    ATA = A.T @ A\n",
    "    \n",
    "    # Compute eigenvalues and eigenvectors of A^T A\n",
    "    eigvals, V = np.linalg.eigh(ATA)  # eigh because ATA is symmetric\n",
    "    \n",
    "    # Sort eigenvalues and eigenvectors in descending order\n",
    "    idx = eigvals.argsort()[::-1]\n",
    "    eigvals = eigvals[idx]\n",
    "    V = V[:, idx]\n",
    "    \n",
    "    # Set negatives to zero\n",
    "    clipped = np.clip(eigvals, 0, None)\n",
    "\n",
    "    # Compute singular values = sqrt of eigenvalues\n",
    "    singular_values = np.sqrt(clipped)\n",
    "    \n",
    "\n",
    "    tol = 1e-10\n",
    "    # Compute U = A V Sigma^-1 for nonzero singular values\n",
    "    # Handle zero singular values to avoid division by zero\n",
    "    sigma_inv = np.array([1/s if s > tol else 0 for s in singular_values])\n",
    "    U = A @ V * sigma_inv\n",
    "    \n",
    "    # Normalize U columns\n",
    "    for i in range(U.shape[1]):\n",
    "        norm = np.linalg.norm(U[:, i])\n",
    "        if norm > tol:\n",
    "            U[:, i] /= norm\n",
    "    \n",
    "    # Make Sigma matrix (m x n)\n",
    "    m, n = A.shape\n",
    "    Sigma = np.zeros((m, n))\n",
    "    np.fill_diagonal(Sigma, singular_values)\n",
    "    \n",
    "    return U, Sigma, V.T\n"
   ]
  },
  {
   "cell_type": "markdown",
   "metadata": {
    "id": "YEGPpESKexL5"
   },
   "source": [
    "## Matrix Pseudo Inverse"
   ]
  },
  {
   "cell_type": "code",
   "execution_count": 5,
   "metadata": {
    "id": "RYse0rLygG-j"
   },
   "outputs": [],
   "source": [
    "## Write a function to return the pseudo inverse of a matrix\n",
    "## You only have to complete the function matrix_pseudo_inverse\n",
    "## The input and output are taken care of with an example\n",
    "\n",
    "\n",
    "# Assume matrix is square and invertible\n",
    "def matrix_pseudo_inverse(matrix):\n",
    "    ## Write your code here\n",
    "    ## Don't forget to return the resultant matrix\n",
    "    A = np.array(matrix, dtype=float)\n",
    "    n = A.shape[0]\n",
    "    \n",
    "    # Determinant function (recursive)\n",
    "    def determinant(mat):\n",
    "        if mat.shape == (1, 1):\n",
    "            return mat[0, 0]\n",
    "        if mat.shape == (2, 2):\n",
    "            return mat[0,0]*mat[1,1] - mat[0,1]*mat[1,0]\n",
    "        det = 0\n",
    "        for c in range(mat.shape[1]):\n",
    "            minor = np.delete(np.delete(mat, 0, axis=0), c, axis=1)\n",
    "            det += ((-1)**c) * mat[0, c] * determinant(minor)\n",
    "        return det\n",
    "\n",
    "    detA = determinant(A)\n",
    "    if abs(detA) < 1e-12:\n",
    "        raise ValueError(\"Matrix is singular or nearly singular\")\n",
    "\n",
    "    cof = np.zeros_like(A)\n",
    "    for i in range(n):\n",
    "        for j in range(n):\n",
    "            minor = np.delete(np.delete(A, i, axis=0), j, axis=1)\n",
    "            cof[i, j] = ((-1)**(i + j)) * determinant(minor)\n",
    "    adjugate = cof.T\n",
    "    psinverse = (1 / detA) * adjugate\n",
    "\n",
    "    return psinverse"
   ]
  },
  {
   "cell_type": "markdown",
   "metadata": {
    "id": "uWXex4kSgdxk"
   },
   "source": [
    "We can use the following functions from different libraries for finding the inverse of a matrix as well (for testing purpose only)\n",
    "\n",
    "- numpy.linalg.pinv(a)\n",
    "- scipy.linalg.pinv(a)\n",
    "\n",
    "Feel free to explore these in place of the function implementation above and more if you come across any."
   ]
  },
  {
   "cell_type": "markdown",
   "metadata": {
    "id": "wCGu4SnzmEoV"
   },
   "source": [
    "**Happy Learning!**"
   ]
  },
  {
   "cell_type": "markdown",
   "metadata": {},
   "source": [
    "# Benjamin Huh F004NDC"
   ]
  }
 ],
 "metadata": {
  "colab": {
   "provenance": []
  },
  "kernelspec": {
   "display_name": "engs96",
   "language": "python",
   "name": "python3"
  },
  "language_info": {
   "codemirror_mode": {
    "name": "ipython",
    "version": 3
   },
   "file_extension": ".py",
   "mimetype": "text/x-python",
   "name": "python",
   "nbconvert_exporter": "python",
   "pygments_lexer": "ipython3",
   "version": "3.12.11"
  }
 },
 "nbformat": 4,
 "nbformat_minor": 4
}
